{
 "cells": [
  {
   "cell_type": "code",
   "execution_count": 37,
   "metadata": {},
   "outputs": [
    {
     "name": "stdout",
     "output_type": "stream",
     "text": [
      "Mean of x:  3.475\n",
      "Mean of y:  2.575\n",
      "Variance of x:  9.4275\n",
      "covariance(x,y):  -0.7725\n",
      "Value of m:  -0.0819411\n",
      "Value of c:  2.85975\n",
      "Value of y1:  [ 2.7778039   2.43365145  2.5565629   2.53198075]\n"
     ]
    }
   ],
   "source": [
    "#1.Read 2 arrays x,y containing floating point value\n",
    "import tensorflow as tf\n",
    "\n",
    "x=tf.constant([1.0,5.2,3.7,4.0])\n",
    "y=tf.constant([2.2,1.1,3.0,4.0])\n",
    "sum1=tf.constant(0.0)\n",
    "m=tf.constant(0.0)\n",
    "\n",
    "# 2.mean of x and y\n",
    "with tf.Session() as sess:\n",
    "    with tf.name_scope(\"Mean_X\"):\n",
    "        mean_x=tf.reduce_mean(x)\n",
    "    with tf.name_scope(\"Mean_Y\"):\n",
    "        mean_y=tf.reduce_mean(y)\n",
    "        \n",
    "# 3.variance(x)=sum((x-mean(x))^2)\n",
    "    with tf.name_scope(\"Variance_X\"):\n",
    "        for i in range(len(sess.run(x))):\n",
    "            sum1=tf.add(sum1,tf.square(tf.subtract(x[i],mean_x)))\n",
    "            var_x=sum1\n",
    "            \n",
    "# 4.covariance = sum((x(i) - mean(x)) * (y(i) - mean(y)))         \n",
    "    sum1=0.0\n",
    "    with tf.name_scope(\"Covariance\"):\n",
    "        for i in range(len(sess.run(x))):\n",
    "            sum1=tf.add(sum1,tf.multiply(tf.subtract(x[i],mean_x),tf.subtract(y[i],mean_y)))\n",
    "            cov_xy=sum1\n",
    "            \n",
    "# 5.m=covariance(x,y)/variance(x)         \n",
    "    with tf.name_scope(\"Value_m\"):\n",
    "        m = tf.div(cov_xy,var_x)\n",
    "\n",
    "# 6.c=mean(y)-m*mean(x)\n",
    "    with tf.name_scope(\"Value_c\"):\n",
    "        c=tf.subtract(mean_y,tf.multiply(m,mean_x))\n",
    "        \n",
    "# y = mx+c\n",
    "    with tf.name_scope(\"Linear_Model\"):\n",
    "        y1=tf.add(tf.multiply(m,x),c)\n",
    "    \n",
    "\n",
    "    print(\"Mean of x: \",sess.run(mean_x))\n",
    "    print(\"Mean of y: \",sess.run(mean_y))\n",
    "    print(\"Variance of x: \",sess.run(var_x))\n",
    "    print(\"covariance(x,y): \",sess.run(cov_xy))\n",
    "    print(\"Value of m: \",sess.run(m))\n",
    "    print(\"Value of c: \",sess.run(c))\n",
    "    \n",
    "    print(\"Value of y1: \",sess.run(y1))\n",
    "\n",
    "    \n"
   ]
  }
 ],
 "metadata": {
  "kernelspec": {
   "display_name": "Python 3",
   "language": "python",
   "name": "python3"
  },
  "language_info": {
   "codemirror_mode": {
    "name": "ipython",
    "version": 3
   },
   "file_extension": ".py",
   "mimetype": "text/x-python",
   "name": "python",
   "nbconvert_exporter": "python",
   "pygments_lexer": "ipython3",
   "version": "3.6.1"
  }
 },
 "nbformat": 4,
 "nbformat_minor": 2
}
