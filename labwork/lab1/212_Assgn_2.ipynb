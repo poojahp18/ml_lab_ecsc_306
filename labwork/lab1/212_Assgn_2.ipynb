{
 "cells": [
  {
   "cell_type": "code",
   "execution_count": 39,
   "metadata": {},
   "outputs": [
    {
     "name": "stdout",
     "output_type": "stream",
     "text": [
      "Mean of x:  2.5\n",
      "Mean of y:  4.0\n",
      "Variance of x:  1.25\n",
      "covariance(x,y):  1.33333\n",
      "Value of m:  1.06667\n",
      "Value of c:  1.33333\n",
      "Value of y1:  [ 2.4000001   3.4666667   4.53333378  5.60000038]\n"
     ]
    }
   ],
   "source": [
    "#1.Read 2 arrays x,y containing floating point value\n",
    "import tensorflow as tf\n",
    "\n",
    "x=tf.constant([1.0,2.0,3.0,4.0])\n",
    "y=tf.constant([2.0,5.0,4.0,5.0])\n",
    "sum1=tf.constant(0.0)\n",
    "m=tf.constant(0.0)\n",
    "\n",
    "# 2.mean of x and y\n",
    "with tf.Session() as sess:\n",
    "    with tf.name_scope(\"Mean_X\"):\n",
    "        mean_x=tf.reduce_mean(x)\n",
    "    with tf.name_scope(\"Mean_Y\"):\n",
    "        mean_y=tf.reduce_mean(y)\n",
    "\n",
    "    n=tf.to_float(len(sess.run(x)))\n",
    "# 3.variance(x)=sum((x-mean(x))^2)/n\n",
    "    with tf.name_scope(\"Variance_X\"):\n",
    "        for i in range(len(sess.run(x))):\n",
    "            sum1=tf.add(sum1,tf.square(tf.subtract(x[i],mean_x)))\n",
    "    \n",
    "    \n",
    "        var_x=tf.div(sum1,n)\n",
    "            \n",
    "# 4.covariance = sum((x(i) - mean(x)) * (y(i) - mean(y)))/n-1        \n",
    "    sum1=0.0\n",
    "    with tf.name_scope(\"Covariance\"):\n",
    "        for i in range(len(sess.run(x))):\n",
    "            sum1=tf.add(sum1,tf.multiply(tf.subtract(x[i],mean_x),tf.subtract(y[i],mean_y)))\n",
    "        \n",
    "        \n",
    "        cov_xy=tf.div(sum1,tf.subtract(n,1.0))\n",
    "            \n",
    "# 5.m=covariance(x,y)/variance(x)         \n",
    "    with tf.name_scope(\"Value_m\"):\n",
    "        m = tf.div(cov_xy,var_x)\n",
    "\n",
    "# 6.c=mean(y)-m*mean(x)\n",
    "    with tf.name_scope(\"Value_c\"):\n",
    "        c=tf.subtract(mean_y,tf.multiply(m,mean_x))\n",
    "        \n",
    "# y = mx+c\n",
    "    with tf.name_scope(\"Linear_Model\"):\n",
    "        y1=tf.add(tf.multiply(m,x),c)\n",
    "    \n",
    "\n",
    "    print(\"Mean of x: \",sess.run(mean_x))\n",
    "    print(\"Mean of y: \",sess.run(mean_y))\n",
    "    print(\"Variance of x: \",sess.run(var_x))\n",
    "    print(\"covariance(x,y): \",sess.run(cov_xy))\n",
    "    print(\"Value of m: \",sess.run(m))\n",
    "    print(\"Value of c: \",sess.run(c))\n",
    "    \n",
    "    print(\"Value of y1: \",sess.run(y1))"
   ]
  },
  {
   "cell_type": "code",
   "execution_count": 41,
   "metadata": {},
   "outputs": [
    {
     "name": "stdout",
     "output_type": "stream",
     "text": [
      "Value of y:  [ 2.  5.  4.  5.]\n",
      "Value of y1:  [ 2.4000001   3.4666667   4.53333378  5.60000038]\n"
     ]
    },
    {
     "data": {
      "image/png": "[encoded data removed]",
      "text/plain": [
       "<matplotlib.figure.Figure at 0x7f77fc0f5f28>"
      ]
     },
     "metadata": {},
     "output_type": "display_data"
    },
    {
     "name": "stdout",
     "output_type": "stream",
     "text": [
      "Root mean square error: 0.888194\n"
     ]
    }
   ],
   "source": [
    "# Part 2\n",
    "\n",
    "import matplotlib.pyplot  as plt\n",
    "\n",
    "val1=tf.constant(0.0)\n",
    "err1=tf.constant(0.0)\n",
    "\n",
    "with tf.Session() as sess:\n",
    "    print(\"Value of y: \",sess.run(y))\n",
    "    print(\"Value of y1: \",sess.run(y1))\n",
    "\n",
    "\n",
    "    plt.plot(sess.run(y),sess.run(y1))\n",
    "    plt.axis([0,6,0,5])\n",
    "    plt.show()\n",
    "\n",
    "\n",
    "# RMSE = sqrt(mean((y-y_pred).^2))\n",
    "\n",
    "\n",
    "    cost = tf.reduce_sum(tf.pow(y1-y, 2))/(len(sess.run(x)))\n",
    "    cost = tf.sqrt(cost)\n",
    "               \n",
    "    print(\"Root mean square error:\",sess.run(cost))\n"
   ]
  }
 ],
 "metadata": {
  "kernelspec": {
   "display_name": "Python 3",
   "language": "python",
   "name": "python3"
  },
  "language_info": {
   "codemirror_mode": {
    "name": "ipython",
    "version": 3
   },
   "file_extension": ".py",
   "mimetype": "text/x-python",
   "name": "python",
   "nbconvert_exporter": "python",
   "pygments_lexer": "ipython3",
   "version": "3.6.1"
  }
 },
 "nbformat": 4,
 "nbformat_minor": 2
}
