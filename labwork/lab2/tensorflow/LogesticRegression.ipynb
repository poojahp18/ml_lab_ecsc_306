{
 "cells": [
  {
   "cell_type": "code",
   "execution_count": 3,
   "metadata": {},
   "outputs": [
    {
     "name": "stdout",
     "output_type": "stream",
     "text": [
      "ERROR:tensorflow:==================================\n",
      "Object was never used (type <class 'tensorflow.python.ops.tensor_array_ops.TensorArray'>):\n",
      "<tensorflow.python.ops.tensor_array_ops.TensorArray object at 0x7fbd38f2ef28>\n",
      "If you want to mark it as used call its \"mark_used()\" method.\n",
      "It was originally created here:\n",
      "['File \"/home/pooja/anaconda3/lib/python3.6/runpy.py\", line 193, in _run_module_as_main\\n    \"__main__\", mod_spec)', 'File \"/home/pooja/anaconda3/lib/python3.6/runpy.py\", line 85, in _run_code\\n    exec(code, run_globals)', 'File \"/home/pooja/anaconda3/lib/python3.6/site-packages/ipykernel_launcher.py\", line 16, in <module>\\n    app.launch_new_instance()', 'File \"/home/pooja/anaconda3/lib/python3.6/site-packages/traitlets/config/application.py\", line 658, in launch_instance\\n    app.start()', 'File \"/home/pooja/anaconda3/lib/python3.6/site-packages/ipykernel/kernelapp.py\", line 477, in start\\n    ioloop.IOLoop.instance().start()', 'File \"/home/pooja/anaconda3/lib/python3.6/site-packages/zmq/eventloop/ioloop.py\", line 177, in start\\n    super(ZMQIOLoop, self).start()', 'File \"/home/pooja/anaconda3/lib/python3.6/site-packages/tornado/ioloop.py\", line 888, in start\\n    handler_func(fd_obj, events)', 'File \"/home/pooja/anaconda3/lib/python3.6/site-packages/tornado/stack_context.py\", line 277, in null_wrapper\\n    return fn(*args, **kwargs)', 'File \"/home/pooja/anaconda3/lib/python3.6/site-packages/zmq/eventloop/zmqstream.py\", line 440, in _handle_events\\n    self._handle_recv()', 'File \"/home/pooja/anaconda3/lib/python3.6/site-packages/zmq/eventloop/zmqstream.py\", line 472, in _handle_recv\\n    self._run_callback(callback, msg)', 'File \"/home/pooja/anaconda3/lib/python3.6/site-packages/zmq/eventloop/zmqstream.py\", line 414, in _run_callback\\n    callback(*args, **kwargs)', 'File \"/home/pooja/anaconda3/lib/python3.6/site-packages/tornado/stack_context.py\", line 277, in null_wrapper\\n    return fn(*args, **kwargs)', 'File \"/home/pooja/anaconda3/lib/python3.6/site-packages/ipykernel/kernelbase.py\", line 283, in dispatcher\\n    return self.dispatch_shell(stream, msg)', 'File \"/home/pooja/anaconda3/lib/python3.6/site-packages/ipykernel/kernelbase.py\", line 235, in dispatch_shell\\n    handler(stream, idents, msg)', 'File \"/home/pooja/anaconda3/lib/python3.6/site-packages/ipykernel/kernelbase.py\", line 399, in execute_request\\n    user_expressions, allow_stdin)', 'File \"/home/pooja/anaconda3/lib/python3.6/site-packages/ipykernel/ipkernel.py\", line 196, in do_execute\\n    res = shell.run_cell(code, store_history=store_history, silent=silent)', 'File \"/home/pooja/anaconda3/lib/python3.6/site-packages/ipykernel/zmqshell.py\", line 533, in run_cell\\n    return super(ZMQInteractiveShell, self).run_cell(*args, **kwargs)', 'File \"/home/pooja/anaconda3/lib/python3.6/site-packages/IPython/core/interactiveshell.py\", line 2717, in run_cell\\n    interactivity=interactivity, compiler=compiler, result=result)', 'File \"/home/pooja/anaconda3/lib/python3.6/site-packages/IPython/core/interactiveshell.py\", line 2821, in run_ast_nodes\\n    if self.run_code(code, result):', 'File \"/home/pooja/anaconda3/lib/python3.6/site-packages/IPython/core/interactiveshell.py\", line 2881, in run_code\\n    exec(code_obj, self.user_global_ns, self.user_ns)', 'File \"<ipython-input-2-252592de3c42>\", line 45, in <module>\\n    theta_array = theta_array.write(l+2, theta2)', 'File \"/home/pooja/anaconda3/lib/python3.6/site-packages/tensorflow/python/util/tf_should_use.py\", line 88, in fn\\n    return method(self, *args, **kwargs)', 'File \"/home/pooja/anaconda3/lib/python3.6/site-packages/tensorflow/python/util/tf_should_use.py\", line 170, in wrapped\\n    return _add_should_use_warning(fn(*args, **kwargs))', 'File \"/home/pooja/anaconda3/lib/python3.6/site-packages/tensorflow/python/util/tf_should_use.py\", line 139, in _add_should_use_warning\\n    wrapped = TFShouldUseWarningWrapper(x)', 'File \"/home/pooja/anaconda3/lib/python3.6/site-packages/tensorflow/python/util/tf_should_use.py\", line 96, in __init__\\n    stack = [s.strip() for s in traceback.format_stack()]']\n",
      "==================================\n",
      "Epoch value: 20\n",
      "Theta0: -0.657448\n",
      "Theta1: 1.21468\n",
      "Theta2: -1.70404\n",
      "Error: 0.074874\n",
      "Epoch value: 40\n",
      "Theta0: -0.791034\n",
      "Theta1: 1.41484\n",
      "Theta2: -2.03679\n",
      "Error: 0.0345038\n",
      "Epoch value: 60\n",
      "Theta0: -0.866777\n",
      "Theta1: 1.53333\n",
      "Theta2: -2.22452\n",
      "Error: 0.0223781\n",
      "Epoch value: 80\n",
      "Theta0: -0.919727\n",
      "Theta1: 1.61783\n",
      "Theta2: -2.35595\n",
      "Error: 0.0165549\n",
      "Epoch value: 100\n",
      "Theta0: -0.960415\n",
      "Theta1: 1.68358\n",
      "Theta2: -2.4572\n",
      "Error: 0.0131355\n",
      "[ 0.07487403  0.03450377  0.02237808  0.01655488  0.01313553]\n"
     ]
    },
    {
     "data": {
      "image/png": "[encoded data removed]",
      "text/plain": [
       "<matplotlib.figure.Figure at 0x7fbd0beb0208>"
      ]
     },
     "metadata": {},
     "output_type": "display_data"
    }
   ],
   "source": [
    "import tensorflow as tf\n",
    "import matplotlib.pyplot as plt\n",
    "\n",
    "#LEARNING RATE=0.5\n",
    "\n",
    "x1=tf.constant([2.7810836,1.465489372,3.396561688,1.38807019,3.06407232,7.627531214,5.332441248,6.922596716,8.675418651,7.673756466],name='x1')\n",
    "x2=tf.constant([2.550537003,2.362125076,4.400293529,1.850220317,3.005305973,2.759262235,2.088626775,1.77106367,-0.242068655,3.508563011],name='x2')\n",
    "y=tf.constant([0.0,0.0,0.0,0.0,0.0,1.0,1.0,1.0,1.0,1.0],name='out')\n",
    "\n",
    "epoch=tf.constant(100)\n",
    "interval=tf.constant([20.0,40.0,60.0,80.0,100.0])\n",
    "learn_rate=0.5\n",
    "theta0=tf.constant(0.0)\n",
    "theta1=tf.constant(0.0)\n",
    "theta2=tf.constant(0.0)\n",
    "k=tf.constant(0)\n",
    "\n",
    "inter=tf.div(epoch,20)\n",
    "inter=tf.cast(inter,tf.int32)\n",
    "\n",
    "\n",
    "model = tf.global_variables_initializer()\n",
    "\n",
    "with tf.Session() as sess:\n",
    "    sess.run(model)\n",
    "    output = tf.TensorArray(size=inter, dtype=tf.float32)\n",
    "    theta_array = tf.TensorArray(size=3,dtype=tf.float32)\n",
    "    for i in range(sess.run(epoch)):\n",
    "        sum_err=0.0\n",
    "        for j in range(sess.run(tf.size(x1))):\n",
    "            l=0\n",
    "            yhat = 1.0/(1.0+tf.exp(-theta0-(theta1*x1[j])-(theta2*x2[j])))\n",
    "            #error = y[j]-yhat\n",
    "            error=tf.subtract(y[j],yhat)\n",
    "            #sum_err = sum_err+tf.square(error)\n",
    "            sum_err=tf.add(sum_err,tf.square(error))\n",
    "            #theta0 = theta0 + learn_rate* error * yhat * (1.0 - yhat)\n",
    "            theta0=tf.add(theta0,tf.multiply(learn_rate,tf.multiply(error,tf.multiply(yhat,tf.subtract(1.0,yhat)))))\n",
    "            theta_array = theta_array.write(l, theta0)\n",
    "            #theta1 = theta1 + learn_rate* error * yhat * (1.0 - yhat)*x1[i]\n",
    "            theta1 =tf.add(theta1,tf.multiply(learn_rate,tf.multiply(error,tf.multiply(tf.multiply(yhat,x1[j]),tf.subtract(1.0,yhat)))))\n",
    "            theta_array = theta_array.write(l+1, theta1)\n",
    "            #theta2 = theta2 + learn_rate* error * yhat * (1.0 - yhat)*x2[i]\n",
    "            theta2 =tf.add(theta2,tf.multiply(learn_rate,tf.multiply(error,tf.multiply(tf.multiply(yhat,x2[j]),tf.subtract(1.0,yhat)))))\n",
    "            theta_array = theta_array.write(l+2, theta2)\n",
    "        if (i+1) % 20 == 0:\n",
    "            print(\"Epoch value:\",(i+1))\n",
    "            print(\"Theta0:\",sess.run(theta0))\n",
    "            print(\"Theta1:\",sess.run(theta1))\n",
    "            print(\"Theta2:\",sess.run(theta2))\n",
    "            print(\"Error:\",sess.run(sum_err))\n",
    "            output= output.write(k, sum_err)\n",
    "            k=k+1\n",
    "    output_final = output.stack()\n",
    "   \n",
    "    #part 2\n",
    "    print(sess.run(output_final))\n",
    "    plt.plot(sess.run(interval),sess.run(output_final),label='Epoch-Cost')\n",
    "    plt.legend()\n",
    "    plt.show()"
   ]
  },
  {
   "cell_type": "code",
   "execution_count": null,
   "metadata": {
    "collapsed": true
   },
   "outputs": [],
   "source": []
  }
 ],
 "metadata": {
  "kernelspec": {
   "display_name": "Python 3",
   "language": "python",
   "name": "python3"
  },
  "language_info": {
   "codemirror_mode": {
    "name": "ipython",
    "version": 3
   },
   "file_extension": ".py",
   "mimetype": "text/x-python",
   "name": "python",
   "nbconvert_exporter": "python",
   "pygments_lexer": "ipython3",
   "version": "3.6.1"
  }
 },
 "nbformat": 4,
 "nbformat_minor": 2
}
